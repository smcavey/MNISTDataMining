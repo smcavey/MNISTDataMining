{
 "cells": [
  {
   "cell_type": "markdown",
   "id": "91985711",
   "metadata": {},
   "source": [
    "# MNIST Digit Recognizer\n",
    "## Spencer McAvey\n",
    "## Knowledge Discover and Data Mining E22"
   ]
  },
  {
   "cell_type": "markdown",
   "id": "fa009a52",
   "metadata": {},
   "source": [
    "### Read in the data to dataframes"
   ]
  },
  {
   "cell_type": "code",
   "execution_count": 2,
   "id": "8b4c51c0",
   "metadata": {},
   "outputs": [],
   "source": [
    "import pandas as pd\n",
    "train = pd.read_csv('C:\\\\Users\\\\Spencer\\\\Desktop\\\\Summer 2022\\\\Data Mining\\\\Homework\\\\Digit Recognizer\\\\digit-recognizer\\\\train.csv')\n",
    "test = pd.read_csv('C:\\\\Users\\\\Spencer\\\\Desktop\\\\Summer 2022\\\\Data Mining\\\\Homework\\\\Digit Recognizer\\\\digit-recognizer\\\\test.csv')"
   ]
  },
  {
   "cell_type": "markdown",
   "id": "4ae81093",
   "metadata": {},
   "source": [
    "### Check out the parameters"
   ]
  },
  {
   "cell_type": "code",
   "execution_count": 190,
   "id": "7f50f5e9",
   "metadata": {},
   "outputs": [
    {
     "data": {
      "text/html": [
       "<div>\n",
       "<style scoped>\n",
       "    .dataframe tbody tr th:only-of-type {\n",
       "        vertical-align: middle;\n",
       "    }\n",
       "\n",
       "    .dataframe tbody tr th {\n",
       "        vertical-align: top;\n",
       "    }\n",
       "\n",
       "    .dataframe thead th {\n",
       "        text-align: right;\n",
       "    }\n",
       "</style>\n",
       "<table border=\"1\" class=\"dataframe\">\n",
       "  <thead>\n",
       "    <tr style=\"text-align: right;\">\n",
       "      <th></th>\n",
       "      <th>label</th>\n",
       "      <th>pixel0</th>\n",
       "      <th>pixel1</th>\n",
       "      <th>pixel2</th>\n",
       "      <th>pixel3</th>\n",
       "      <th>pixel4</th>\n",
       "      <th>pixel5</th>\n",
       "      <th>pixel6</th>\n",
       "      <th>pixel7</th>\n",
       "      <th>pixel8</th>\n",
       "      <th>...</th>\n",
       "      <th>pixel774</th>\n",
       "      <th>pixel775</th>\n",
       "      <th>pixel776</th>\n",
       "      <th>pixel777</th>\n",
       "      <th>pixel778</th>\n",
       "      <th>pixel779</th>\n",
       "      <th>pixel780</th>\n",
       "      <th>pixel781</th>\n",
       "      <th>pixel782</th>\n",
       "      <th>pixel783</th>\n",
       "    </tr>\n",
       "  </thead>\n",
       "  <tbody>\n",
       "    <tr>\n",
       "      <th>count</th>\n",
       "      <td>42000.000000</td>\n",
       "      <td>42000.0</td>\n",
       "      <td>42000.0</td>\n",
       "      <td>42000.0</td>\n",
       "      <td>42000.0</td>\n",
       "      <td>42000.0</td>\n",
       "      <td>42000.0</td>\n",
       "      <td>42000.0</td>\n",
       "      <td>42000.0</td>\n",
       "      <td>42000.0</td>\n",
       "      <td>...</td>\n",
       "      <td>42000.000000</td>\n",
       "      <td>42000.000000</td>\n",
       "      <td>42000.000000</td>\n",
       "      <td>42000.00000</td>\n",
       "      <td>42000.000000</td>\n",
       "      <td>42000.000000</td>\n",
       "      <td>42000.0</td>\n",
       "      <td>42000.0</td>\n",
       "      <td>42000.0</td>\n",
       "      <td>42000.0</td>\n",
       "    </tr>\n",
       "    <tr>\n",
       "      <th>mean</th>\n",
       "      <td>4.456643</td>\n",
       "      <td>0.0</td>\n",
       "      <td>0.0</td>\n",
       "      <td>0.0</td>\n",
       "      <td>0.0</td>\n",
       "      <td>0.0</td>\n",
       "      <td>0.0</td>\n",
       "      <td>0.0</td>\n",
       "      <td>0.0</td>\n",
       "      <td>0.0</td>\n",
       "      <td>...</td>\n",
       "      <td>0.219286</td>\n",
       "      <td>0.117095</td>\n",
       "      <td>0.059024</td>\n",
       "      <td>0.02019</td>\n",
       "      <td>0.017238</td>\n",
       "      <td>0.002857</td>\n",
       "      <td>0.0</td>\n",
       "      <td>0.0</td>\n",
       "      <td>0.0</td>\n",
       "      <td>0.0</td>\n",
       "    </tr>\n",
       "    <tr>\n",
       "      <th>std</th>\n",
       "      <td>2.887730</td>\n",
       "      <td>0.0</td>\n",
       "      <td>0.0</td>\n",
       "      <td>0.0</td>\n",
       "      <td>0.0</td>\n",
       "      <td>0.0</td>\n",
       "      <td>0.0</td>\n",
       "      <td>0.0</td>\n",
       "      <td>0.0</td>\n",
       "      <td>0.0</td>\n",
       "      <td>...</td>\n",
       "      <td>6.312890</td>\n",
       "      <td>4.633819</td>\n",
       "      <td>3.274488</td>\n",
       "      <td>1.75987</td>\n",
       "      <td>1.894498</td>\n",
       "      <td>0.414264</td>\n",
       "      <td>0.0</td>\n",
       "      <td>0.0</td>\n",
       "      <td>0.0</td>\n",
       "      <td>0.0</td>\n",
       "    </tr>\n",
       "    <tr>\n",
       "      <th>min</th>\n",
       "      <td>0.000000</td>\n",
       "      <td>0.0</td>\n",
       "      <td>0.0</td>\n",
       "      <td>0.0</td>\n",
       "      <td>0.0</td>\n",
       "      <td>0.0</td>\n",
       "      <td>0.0</td>\n",
       "      <td>0.0</td>\n",
       "      <td>0.0</td>\n",
       "      <td>0.0</td>\n",
       "      <td>...</td>\n",
       "      <td>0.000000</td>\n",
       "      <td>0.000000</td>\n",
       "      <td>0.000000</td>\n",
       "      <td>0.00000</td>\n",
       "      <td>0.000000</td>\n",
       "      <td>0.000000</td>\n",
       "      <td>0.0</td>\n",
       "      <td>0.0</td>\n",
       "      <td>0.0</td>\n",
       "      <td>0.0</td>\n",
       "    </tr>\n",
       "    <tr>\n",
       "      <th>25%</th>\n",
       "      <td>2.000000</td>\n",
       "      <td>0.0</td>\n",
       "      <td>0.0</td>\n",
       "      <td>0.0</td>\n",
       "      <td>0.0</td>\n",
       "      <td>0.0</td>\n",
       "      <td>0.0</td>\n",
       "      <td>0.0</td>\n",
       "      <td>0.0</td>\n",
       "      <td>0.0</td>\n",
       "      <td>...</td>\n",
       "      <td>0.000000</td>\n",
       "      <td>0.000000</td>\n",
       "      <td>0.000000</td>\n",
       "      <td>0.00000</td>\n",
       "      <td>0.000000</td>\n",
       "      <td>0.000000</td>\n",
       "      <td>0.0</td>\n",
       "      <td>0.0</td>\n",
       "      <td>0.0</td>\n",
       "      <td>0.0</td>\n",
       "    </tr>\n",
       "    <tr>\n",
       "      <th>50%</th>\n",
       "      <td>4.000000</td>\n",
       "      <td>0.0</td>\n",
       "      <td>0.0</td>\n",
       "      <td>0.0</td>\n",
       "      <td>0.0</td>\n",
       "      <td>0.0</td>\n",
       "      <td>0.0</td>\n",
       "      <td>0.0</td>\n",
       "      <td>0.0</td>\n",
       "      <td>0.0</td>\n",
       "      <td>...</td>\n",
       "      <td>0.000000</td>\n",
       "      <td>0.000000</td>\n",
       "      <td>0.000000</td>\n",
       "      <td>0.00000</td>\n",
       "      <td>0.000000</td>\n",
       "      <td>0.000000</td>\n",
       "      <td>0.0</td>\n",
       "      <td>0.0</td>\n",
       "      <td>0.0</td>\n",
       "      <td>0.0</td>\n",
       "    </tr>\n",
       "    <tr>\n",
       "      <th>75%</th>\n",
       "      <td>7.000000</td>\n",
       "      <td>0.0</td>\n",
       "      <td>0.0</td>\n",
       "      <td>0.0</td>\n",
       "      <td>0.0</td>\n",
       "      <td>0.0</td>\n",
       "      <td>0.0</td>\n",
       "      <td>0.0</td>\n",
       "      <td>0.0</td>\n",
       "      <td>0.0</td>\n",
       "      <td>...</td>\n",
       "      <td>0.000000</td>\n",
       "      <td>0.000000</td>\n",
       "      <td>0.000000</td>\n",
       "      <td>0.00000</td>\n",
       "      <td>0.000000</td>\n",
       "      <td>0.000000</td>\n",
       "      <td>0.0</td>\n",
       "      <td>0.0</td>\n",
       "      <td>0.0</td>\n",
       "      <td>0.0</td>\n",
       "    </tr>\n",
       "    <tr>\n",
       "      <th>max</th>\n",
       "      <td>9.000000</td>\n",
       "      <td>0.0</td>\n",
       "      <td>0.0</td>\n",
       "      <td>0.0</td>\n",
       "      <td>0.0</td>\n",
       "      <td>0.0</td>\n",
       "      <td>0.0</td>\n",
       "      <td>0.0</td>\n",
       "      <td>0.0</td>\n",
       "      <td>0.0</td>\n",
       "      <td>...</td>\n",
       "      <td>254.000000</td>\n",
       "      <td>254.000000</td>\n",
       "      <td>253.000000</td>\n",
       "      <td>253.00000</td>\n",
       "      <td>254.000000</td>\n",
       "      <td>62.000000</td>\n",
       "      <td>0.0</td>\n",
       "      <td>0.0</td>\n",
       "      <td>0.0</td>\n",
       "      <td>0.0</td>\n",
       "    </tr>\n",
       "  </tbody>\n",
       "</table>\n",
       "<p>8 rows × 785 columns</p>\n",
       "</div>"
      ],
      "text/plain": [
       "              label   pixel0   pixel1   pixel2   pixel3   pixel4   pixel5  \\\n",
       "count  42000.000000  42000.0  42000.0  42000.0  42000.0  42000.0  42000.0   \n",
       "mean       4.456643      0.0      0.0      0.0      0.0      0.0      0.0   \n",
       "std        2.887730      0.0      0.0      0.0      0.0      0.0      0.0   \n",
       "min        0.000000      0.0      0.0      0.0      0.0      0.0      0.0   \n",
       "25%        2.000000      0.0      0.0      0.0      0.0      0.0      0.0   \n",
       "50%        4.000000      0.0      0.0      0.0      0.0      0.0      0.0   \n",
       "75%        7.000000      0.0      0.0      0.0      0.0      0.0      0.0   \n",
       "max        9.000000      0.0      0.0      0.0      0.0      0.0      0.0   \n",
       "\n",
       "        pixel6   pixel7   pixel8  ...      pixel774      pixel775  \\\n",
       "count  42000.0  42000.0  42000.0  ...  42000.000000  42000.000000   \n",
       "mean       0.0      0.0      0.0  ...      0.219286      0.117095   \n",
       "std        0.0      0.0      0.0  ...      6.312890      4.633819   \n",
       "min        0.0      0.0      0.0  ...      0.000000      0.000000   \n",
       "25%        0.0      0.0      0.0  ...      0.000000      0.000000   \n",
       "50%        0.0      0.0      0.0  ...      0.000000      0.000000   \n",
       "75%        0.0      0.0      0.0  ...      0.000000      0.000000   \n",
       "max        0.0      0.0      0.0  ...    254.000000    254.000000   \n",
       "\n",
       "           pixel776     pixel777      pixel778      pixel779  pixel780  \\\n",
       "count  42000.000000  42000.00000  42000.000000  42000.000000   42000.0   \n",
       "mean       0.059024      0.02019      0.017238      0.002857       0.0   \n",
       "std        3.274488      1.75987      1.894498      0.414264       0.0   \n",
       "min        0.000000      0.00000      0.000000      0.000000       0.0   \n",
       "25%        0.000000      0.00000      0.000000      0.000000       0.0   \n",
       "50%        0.000000      0.00000      0.000000      0.000000       0.0   \n",
       "75%        0.000000      0.00000      0.000000      0.000000       0.0   \n",
       "max      253.000000    253.00000    254.000000     62.000000       0.0   \n",
       "\n",
       "       pixel781  pixel782  pixel783  \n",
       "count   42000.0   42000.0   42000.0  \n",
       "mean        0.0       0.0       0.0  \n",
       "std         0.0       0.0       0.0  \n",
       "min         0.0       0.0       0.0  \n",
       "25%         0.0       0.0       0.0  \n",
       "50%         0.0       0.0       0.0  \n",
       "75%         0.0       0.0       0.0  \n",
       "max         0.0       0.0       0.0  \n",
       "\n",
       "[8 rows x 785 columns]"
      ]
     },
     "execution_count": 190,
     "metadata": {},
     "output_type": "execute_result"
    }
   ],
   "source": [
    "train.describe()"
   ]
  },
  {
   "cell_type": "code",
   "execution_count": 191,
   "id": "34bd8a76",
   "metadata": {
    "scrolled": true
   },
   "outputs": [
    {
     "data": {
      "text/html": [
       "<div>\n",
       "<style scoped>\n",
       "    .dataframe tbody tr th:only-of-type {\n",
       "        vertical-align: middle;\n",
       "    }\n",
       "\n",
       "    .dataframe tbody tr th {\n",
       "        vertical-align: top;\n",
       "    }\n",
       "\n",
       "    .dataframe thead th {\n",
       "        text-align: right;\n",
       "    }\n",
       "</style>\n",
       "<table border=\"1\" class=\"dataframe\">\n",
       "  <thead>\n",
       "    <tr style=\"text-align: right;\">\n",
       "      <th></th>\n",
       "      <th>pixel0</th>\n",
       "      <th>pixel1</th>\n",
       "      <th>pixel2</th>\n",
       "      <th>pixel3</th>\n",
       "      <th>pixel4</th>\n",
       "      <th>pixel5</th>\n",
       "      <th>pixel6</th>\n",
       "      <th>pixel7</th>\n",
       "      <th>pixel8</th>\n",
       "      <th>pixel9</th>\n",
       "      <th>...</th>\n",
       "      <th>pixel774</th>\n",
       "      <th>pixel775</th>\n",
       "      <th>pixel776</th>\n",
       "      <th>pixel777</th>\n",
       "      <th>pixel778</th>\n",
       "      <th>pixel779</th>\n",
       "      <th>pixel780</th>\n",
       "      <th>pixel781</th>\n",
       "      <th>pixel782</th>\n",
       "      <th>pixel783</th>\n",
       "    </tr>\n",
       "  </thead>\n",
       "  <tbody>\n",
       "    <tr>\n",
       "      <th>count</th>\n",
       "      <td>28000.0</td>\n",
       "      <td>28000.0</td>\n",
       "      <td>28000.0</td>\n",
       "      <td>28000.0</td>\n",
       "      <td>28000.0</td>\n",
       "      <td>28000.0</td>\n",
       "      <td>28000.0</td>\n",
       "      <td>28000.0</td>\n",
       "      <td>28000.0</td>\n",
       "      <td>28000.0</td>\n",
       "      <td>...</td>\n",
       "      <td>28000.000000</td>\n",
       "      <td>28000.000000</td>\n",
       "      <td>28000.000000</td>\n",
       "      <td>28000.000000</td>\n",
       "      <td>28000.000000</td>\n",
       "      <td>28000.0</td>\n",
       "      <td>28000.0</td>\n",
       "      <td>28000.0</td>\n",
       "      <td>28000.0</td>\n",
       "      <td>28000.0</td>\n",
       "    </tr>\n",
       "    <tr>\n",
       "      <th>mean</th>\n",
       "      <td>0.0</td>\n",
       "      <td>0.0</td>\n",
       "      <td>0.0</td>\n",
       "      <td>0.0</td>\n",
       "      <td>0.0</td>\n",
       "      <td>0.0</td>\n",
       "      <td>0.0</td>\n",
       "      <td>0.0</td>\n",
       "      <td>0.0</td>\n",
       "      <td>0.0</td>\n",
       "      <td>...</td>\n",
       "      <td>0.164607</td>\n",
       "      <td>0.073214</td>\n",
       "      <td>0.028036</td>\n",
       "      <td>0.011250</td>\n",
       "      <td>0.006536</td>\n",
       "      <td>0.0</td>\n",
       "      <td>0.0</td>\n",
       "      <td>0.0</td>\n",
       "      <td>0.0</td>\n",
       "      <td>0.0</td>\n",
       "    </tr>\n",
       "    <tr>\n",
       "      <th>std</th>\n",
       "      <td>0.0</td>\n",
       "      <td>0.0</td>\n",
       "      <td>0.0</td>\n",
       "      <td>0.0</td>\n",
       "      <td>0.0</td>\n",
       "      <td>0.0</td>\n",
       "      <td>0.0</td>\n",
       "      <td>0.0</td>\n",
       "      <td>0.0</td>\n",
       "      <td>0.0</td>\n",
       "      <td>...</td>\n",
       "      <td>5.473293</td>\n",
       "      <td>3.616811</td>\n",
       "      <td>1.813602</td>\n",
       "      <td>1.205211</td>\n",
       "      <td>0.807475</td>\n",
       "      <td>0.0</td>\n",
       "      <td>0.0</td>\n",
       "      <td>0.0</td>\n",
       "      <td>0.0</td>\n",
       "      <td>0.0</td>\n",
       "    </tr>\n",
       "    <tr>\n",
       "      <th>min</th>\n",
       "      <td>0.0</td>\n",
       "      <td>0.0</td>\n",
       "      <td>0.0</td>\n",
       "      <td>0.0</td>\n",
       "      <td>0.0</td>\n",
       "      <td>0.0</td>\n",
       "      <td>0.0</td>\n",
       "      <td>0.0</td>\n",
       "      <td>0.0</td>\n",
       "      <td>0.0</td>\n",
       "      <td>...</td>\n",
       "      <td>0.000000</td>\n",
       "      <td>0.000000</td>\n",
       "      <td>0.000000</td>\n",
       "      <td>0.000000</td>\n",
       "      <td>0.000000</td>\n",
       "      <td>0.0</td>\n",
       "      <td>0.0</td>\n",
       "      <td>0.0</td>\n",
       "      <td>0.0</td>\n",
       "      <td>0.0</td>\n",
       "    </tr>\n",
       "    <tr>\n",
       "      <th>25%</th>\n",
       "      <td>0.0</td>\n",
       "      <td>0.0</td>\n",
       "      <td>0.0</td>\n",
       "      <td>0.0</td>\n",
       "      <td>0.0</td>\n",
       "      <td>0.0</td>\n",
       "      <td>0.0</td>\n",
       "      <td>0.0</td>\n",
       "      <td>0.0</td>\n",
       "      <td>0.0</td>\n",
       "      <td>...</td>\n",
       "      <td>0.000000</td>\n",
       "      <td>0.000000</td>\n",
       "      <td>0.000000</td>\n",
       "      <td>0.000000</td>\n",
       "      <td>0.000000</td>\n",
       "      <td>0.0</td>\n",
       "      <td>0.0</td>\n",
       "      <td>0.0</td>\n",
       "      <td>0.0</td>\n",
       "      <td>0.0</td>\n",
       "    </tr>\n",
       "    <tr>\n",
       "      <th>50%</th>\n",
       "      <td>0.0</td>\n",
       "      <td>0.0</td>\n",
       "      <td>0.0</td>\n",
       "      <td>0.0</td>\n",
       "      <td>0.0</td>\n",
       "      <td>0.0</td>\n",
       "      <td>0.0</td>\n",
       "      <td>0.0</td>\n",
       "      <td>0.0</td>\n",
       "      <td>0.0</td>\n",
       "      <td>...</td>\n",
       "      <td>0.000000</td>\n",
       "      <td>0.000000</td>\n",
       "      <td>0.000000</td>\n",
       "      <td>0.000000</td>\n",
       "      <td>0.000000</td>\n",
       "      <td>0.0</td>\n",
       "      <td>0.0</td>\n",
       "      <td>0.0</td>\n",
       "      <td>0.0</td>\n",
       "      <td>0.0</td>\n",
       "    </tr>\n",
       "    <tr>\n",
       "      <th>75%</th>\n",
       "      <td>0.0</td>\n",
       "      <td>0.0</td>\n",
       "      <td>0.0</td>\n",
       "      <td>0.0</td>\n",
       "      <td>0.0</td>\n",
       "      <td>0.0</td>\n",
       "      <td>0.0</td>\n",
       "      <td>0.0</td>\n",
       "      <td>0.0</td>\n",
       "      <td>0.0</td>\n",
       "      <td>...</td>\n",
       "      <td>0.000000</td>\n",
       "      <td>0.000000</td>\n",
       "      <td>0.000000</td>\n",
       "      <td>0.000000</td>\n",
       "      <td>0.000000</td>\n",
       "      <td>0.0</td>\n",
       "      <td>0.0</td>\n",
       "      <td>0.0</td>\n",
       "      <td>0.0</td>\n",
       "      <td>0.0</td>\n",
       "    </tr>\n",
       "    <tr>\n",
       "      <th>max</th>\n",
       "      <td>0.0</td>\n",
       "      <td>0.0</td>\n",
       "      <td>0.0</td>\n",
       "      <td>0.0</td>\n",
       "      <td>0.0</td>\n",
       "      <td>0.0</td>\n",
       "      <td>0.0</td>\n",
       "      <td>0.0</td>\n",
       "      <td>0.0</td>\n",
       "      <td>0.0</td>\n",
       "      <td>...</td>\n",
       "      <td>253.000000</td>\n",
       "      <td>254.000000</td>\n",
       "      <td>193.000000</td>\n",
       "      <td>187.000000</td>\n",
       "      <td>119.000000</td>\n",
       "      <td>0.0</td>\n",
       "      <td>0.0</td>\n",
       "      <td>0.0</td>\n",
       "      <td>0.0</td>\n",
       "      <td>0.0</td>\n",
       "    </tr>\n",
       "  </tbody>\n",
       "</table>\n",
       "<p>8 rows × 784 columns</p>\n",
       "</div>"
      ],
      "text/plain": [
       "        pixel0   pixel1   pixel2   pixel3   pixel4   pixel5   pixel6   pixel7  \\\n",
       "count  28000.0  28000.0  28000.0  28000.0  28000.0  28000.0  28000.0  28000.0   \n",
       "mean       0.0      0.0      0.0      0.0      0.0      0.0      0.0      0.0   \n",
       "std        0.0      0.0      0.0      0.0      0.0      0.0      0.0      0.0   \n",
       "min        0.0      0.0      0.0      0.0      0.0      0.0      0.0      0.0   \n",
       "25%        0.0      0.0      0.0      0.0      0.0      0.0      0.0      0.0   \n",
       "50%        0.0      0.0      0.0      0.0      0.0      0.0      0.0      0.0   \n",
       "75%        0.0      0.0      0.0      0.0      0.0      0.0      0.0      0.0   \n",
       "max        0.0      0.0      0.0      0.0      0.0      0.0      0.0      0.0   \n",
       "\n",
       "        pixel8   pixel9  ...      pixel774      pixel775      pixel776  \\\n",
       "count  28000.0  28000.0  ...  28000.000000  28000.000000  28000.000000   \n",
       "mean       0.0      0.0  ...      0.164607      0.073214      0.028036   \n",
       "std        0.0      0.0  ...      5.473293      3.616811      1.813602   \n",
       "min        0.0      0.0  ...      0.000000      0.000000      0.000000   \n",
       "25%        0.0      0.0  ...      0.000000      0.000000      0.000000   \n",
       "50%        0.0      0.0  ...      0.000000      0.000000      0.000000   \n",
       "75%        0.0      0.0  ...      0.000000      0.000000      0.000000   \n",
       "max        0.0      0.0  ...    253.000000    254.000000    193.000000   \n",
       "\n",
       "           pixel777      pixel778  pixel779  pixel780  pixel781  pixel782  \\\n",
       "count  28000.000000  28000.000000   28000.0   28000.0   28000.0   28000.0   \n",
       "mean       0.011250      0.006536       0.0       0.0       0.0       0.0   \n",
       "std        1.205211      0.807475       0.0       0.0       0.0       0.0   \n",
       "min        0.000000      0.000000       0.0       0.0       0.0       0.0   \n",
       "25%        0.000000      0.000000       0.0       0.0       0.0       0.0   \n",
       "50%        0.000000      0.000000       0.0       0.0       0.0       0.0   \n",
       "75%        0.000000      0.000000       0.0       0.0       0.0       0.0   \n",
       "max      187.000000    119.000000       0.0       0.0       0.0       0.0   \n",
       "\n",
       "       pixel783  \n",
       "count   28000.0  \n",
       "mean        0.0  \n",
       "std         0.0  \n",
       "min         0.0  \n",
       "25%         0.0  \n",
       "50%         0.0  \n",
       "75%         0.0  \n",
       "max         0.0  \n",
       "\n",
       "[8 rows x 784 columns]"
      ]
     },
     "execution_count": 191,
     "metadata": {},
     "output_type": "execute_result"
    }
   ],
   "source": [
    "test.describe()"
   ]
  },
  {
   "cell_type": "markdown",
   "id": "b76fd432",
   "metadata": {},
   "source": [
    "### Neither train nor test datasets are missing any values"
   ]
  },
  {
   "cell_type": "code",
   "execution_count": 192,
   "id": "cfe777a0",
   "metadata": {},
   "outputs": [
    {
     "data": {
      "text/html": [
       "<div>\n",
       "<style scoped>\n",
       "    .dataframe tbody tr th:only-of-type {\n",
       "        vertical-align: middle;\n",
       "    }\n",
       "\n",
       "    .dataframe tbody tr th {\n",
       "        vertical-align: top;\n",
       "    }\n",
       "\n",
       "    .dataframe thead th {\n",
       "        text-align: right;\n",
       "    }\n",
       "</style>\n",
       "<table border=\"1\" class=\"dataframe\">\n",
       "  <thead>\n",
       "    <tr style=\"text-align: right;\">\n",
       "      <th></th>\n",
       "      <th>label</th>\n",
       "      <th>pixel0</th>\n",
       "      <th>pixel1</th>\n",
       "      <th>pixel2</th>\n",
       "      <th>pixel3</th>\n",
       "      <th>pixel4</th>\n",
       "      <th>pixel5</th>\n",
       "      <th>pixel6</th>\n",
       "      <th>pixel7</th>\n",
       "      <th>pixel8</th>\n",
       "      <th>...</th>\n",
       "      <th>pixel774</th>\n",
       "      <th>pixel775</th>\n",
       "      <th>pixel776</th>\n",
       "      <th>pixel777</th>\n",
       "      <th>pixel778</th>\n",
       "      <th>pixel779</th>\n",
       "      <th>pixel780</th>\n",
       "      <th>pixel781</th>\n",
       "      <th>pixel782</th>\n",
       "      <th>pixel783</th>\n",
       "    </tr>\n",
       "  </thead>\n",
       "  <tbody>\n",
       "    <tr>\n",
       "      <th>0</th>\n",
       "      <td>1</td>\n",
       "      <td>0</td>\n",
       "      <td>0</td>\n",
       "      <td>0</td>\n",
       "      <td>0</td>\n",
       "      <td>0</td>\n",
       "      <td>0</td>\n",
       "      <td>0</td>\n",
       "      <td>0</td>\n",
       "      <td>0</td>\n",
       "      <td>...</td>\n",
       "      <td>0</td>\n",
       "      <td>0</td>\n",
       "      <td>0</td>\n",
       "      <td>0</td>\n",
       "      <td>0</td>\n",
       "      <td>0</td>\n",
       "      <td>0</td>\n",
       "      <td>0</td>\n",
       "      <td>0</td>\n",
       "      <td>0</td>\n",
       "    </tr>\n",
       "    <tr>\n",
       "      <th>1</th>\n",
       "      <td>0</td>\n",
       "      <td>0</td>\n",
       "      <td>0</td>\n",
       "      <td>0</td>\n",
       "      <td>0</td>\n",
       "      <td>0</td>\n",
       "      <td>0</td>\n",
       "      <td>0</td>\n",
       "      <td>0</td>\n",
       "      <td>0</td>\n",
       "      <td>...</td>\n",
       "      <td>0</td>\n",
       "      <td>0</td>\n",
       "      <td>0</td>\n",
       "      <td>0</td>\n",
       "      <td>0</td>\n",
       "      <td>0</td>\n",
       "      <td>0</td>\n",
       "      <td>0</td>\n",
       "      <td>0</td>\n",
       "      <td>0</td>\n",
       "    </tr>\n",
       "    <tr>\n",
       "      <th>2</th>\n",
       "      <td>1</td>\n",
       "      <td>0</td>\n",
       "      <td>0</td>\n",
       "      <td>0</td>\n",
       "      <td>0</td>\n",
       "      <td>0</td>\n",
       "      <td>0</td>\n",
       "      <td>0</td>\n",
       "      <td>0</td>\n",
       "      <td>0</td>\n",
       "      <td>...</td>\n",
       "      <td>0</td>\n",
       "      <td>0</td>\n",
       "      <td>0</td>\n",
       "      <td>0</td>\n",
       "      <td>0</td>\n",
       "      <td>0</td>\n",
       "      <td>0</td>\n",
       "      <td>0</td>\n",
       "      <td>0</td>\n",
       "      <td>0</td>\n",
       "    </tr>\n",
       "    <tr>\n",
       "      <th>3</th>\n",
       "      <td>4</td>\n",
       "      <td>0</td>\n",
       "      <td>0</td>\n",
       "      <td>0</td>\n",
       "      <td>0</td>\n",
       "      <td>0</td>\n",
       "      <td>0</td>\n",
       "      <td>0</td>\n",
       "      <td>0</td>\n",
       "      <td>0</td>\n",
       "      <td>...</td>\n",
       "      <td>0</td>\n",
       "      <td>0</td>\n",
       "      <td>0</td>\n",
       "      <td>0</td>\n",
       "      <td>0</td>\n",
       "      <td>0</td>\n",
       "      <td>0</td>\n",
       "      <td>0</td>\n",
       "      <td>0</td>\n",
       "      <td>0</td>\n",
       "    </tr>\n",
       "    <tr>\n",
       "      <th>4</th>\n",
       "      <td>0</td>\n",
       "      <td>0</td>\n",
       "      <td>0</td>\n",
       "      <td>0</td>\n",
       "      <td>0</td>\n",
       "      <td>0</td>\n",
       "      <td>0</td>\n",
       "      <td>0</td>\n",
       "      <td>0</td>\n",
       "      <td>0</td>\n",
       "      <td>...</td>\n",
       "      <td>0</td>\n",
       "      <td>0</td>\n",
       "      <td>0</td>\n",
       "      <td>0</td>\n",
       "      <td>0</td>\n",
       "      <td>0</td>\n",
       "      <td>0</td>\n",
       "      <td>0</td>\n",
       "      <td>0</td>\n",
       "      <td>0</td>\n",
       "    </tr>\n",
       "  </tbody>\n",
       "</table>\n",
       "<p>5 rows × 785 columns</p>\n",
       "</div>"
      ],
      "text/plain": [
       "   label  pixel0  pixel1  pixel2  pixel3  pixel4  pixel5  pixel6  pixel7  \\\n",
       "0      1       0       0       0       0       0       0       0       0   \n",
       "1      0       0       0       0       0       0       0       0       0   \n",
       "2      1       0       0       0       0       0       0       0       0   \n",
       "3      4       0       0       0       0       0       0       0       0   \n",
       "4      0       0       0       0       0       0       0       0       0   \n",
       "\n",
       "   pixel8  ...  pixel774  pixel775  pixel776  pixel777  pixel778  pixel779  \\\n",
       "0       0  ...         0         0         0         0         0         0   \n",
       "1       0  ...         0         0         0         0         0         0   \n",
       "2       0  ...         0         0         0         0         0         0   \n",
       "3       0  ...         0         0         0         0         0         0   \n",
       "4       0  ...         0         0         0         0         0         0   \n",
       "\n",
       "   pixel780  pixel781  pixel782  pixel783  \n",
       "0         0         0         0         0  \n",
       "1         0         0         0         0  \n",
       "2         0         0         0         0  \n",
       "3         0         0         0         0  \n",
       "4         0         0         0         0  \n",
       "\n",
       "[5 rows x 785 columns]"
      ]
     },
     "execution_count": 192,
     "metadata": {},
     "output_type": "execute_result"
    }
   ],
   "source": [
    "train.head()"
   ]
  },
  {
   "cell_type": "markdown",
   "id": "01e76302",
   "metadata": {},
   "source": [
    "### Viewing what one of the arrays of numbers look like"
   ]
  },
  {
   "cell_type": "code",
   "execution_count": 193,
   "id": "e2107739",
   "metadata": {},
   "outputs": [
    {
     "data": {
      "text/plain": [
       "<matplotlib.image.AxesImage at 0x162c4bf21c0>"
      ]
     },
     "execution_count": 193,
     "metadata": {},
     "output_type": "execute_result"
    },
    {
     "data": {
      "image/png": "[encoded data removed]",
      "text/plain": [
       "<Figure size 432x288 with 1 Axes>"
      ]
     },
     "metadata": {
      "needs_background": "light"
     },
     "output_type": "display_data"
    }
   ],
   "source": [
    "import matplotlib.pyplot as plt\n",
    "import numpy as np\n",
    "sample = train.iloc[1]\n",
    "data = np.array(sample[1:])\n",
    "img = np.reshape(data,(28,28))\n",
    "plt.imshow(img)"
   ]
  },
  {
   "cell_type": "markdown",
   "id": "9f6813fd",
   "metadata": {},
   "source": [
    "### Viewing another"
   ]
  },
  {
   "cell_type": "code",
   "execution_count": 194,
   "id": "a75e27b9",
   "metadata": {},
   "outputs": [
    {
     "data": {
      "text/plain": [
       "<matplotlib.image.AxesImage at 0x162c4bb7e20>"
      ]
     },
     "execution_count": 194,
     "metadata": {},
     "output_type": "execute_result"
    },
    {
     "data": {
      "image/png": "[encoded data removed]",
      "text/plain": [
       "<Figure size 432x288 with 1 Axes>"
      ]
     },
     "metadata": {
      "needs_background": "light"
     },
     "output_type": "display_data"
    }
   ],
   "source": [
    "sample = train.iloc[2]\n",
    "data = np.array(sample[1:])\n",
    "img = np.reshape(data,(28,28))\n",
    "plt.imshow(img)"
   ]
  },
  {
   "cell_type": "markdown",
   "id": "ca489439",
   "metadata": {},
   "source": [
    "### Convert the train and test datasets into x and y train and test"
   ]
  },
  {
   "cell_type": "code",
   "execution_count": 253,
   "id": "9a5bf7ee",
   "metadata": {},
   "outputs": [],
   "source": [
    "from keras.utils import to_categorical\n",
    "x_train = train.iloc[:,1:]\n",
    "y_train = train.iloc[:,0:1]\n",
    "x_train = x_train.values.reshape(42000,28,28)\n",
    "test = test.values.reshape(28000,28,28)"
   ]
  },
  {
   "cell_type": "markdown",
   "id": "ec1c88b8",
   "metadata": {},
   "source": [
    "### Create Sequential model which allows adding layers to the model layer by layer"
   ]
  },
  {
   "cell_type": "code",
   "execution_count": 196,
   "id": "ac945ee7",
   "metadata": {
    "scrolled": true
   },
   "outputs": [],
   "source": [
    "from keras.models import Sequential\n",
    "from keras.layers import Dense, Conv2D, Flatten\n",
    "model = Sequential()\n",
    "model.add(Flatten(input_shape=(28,28)))\n",
    "model.add(Dense(128,activation='relu'))\n",
    "model.add(Dense(128,activation='relu'))\n",
    "model.add(Dense(10,activation='softmax'))\n",
    "model.compile(optimizer='adam', loss='sparse_categorical_crossentropy', metrics=['accuracy'])"
   ]
  },
  {
   "cell_type": "markdown",
   "id": "099d7c6a",
   "metadata": {},
   "source": [
    "### Train the model"
   ]
  },
  {
   "cell_type": "code",
   "execution_count": 197,
   "id": "753d2bfb",
   "metadata": {},
   "outputs": [
    {
     "name": "stdout",
     "output_type": "stream",
     "text": [
      "Epoch 1/10\n",
      "1313/1313 [==============================] - 3s 2ms/step - loss: 2.1488 - accuracy: 0.8693\n",
      "Epoch 2/10\n",
      "1313/1313 [==============================] - 3s 3ms/step - loss: 0.4478 - accuracy: 0.9235\n",
      "Epoch 3/10\n",
      "1313/1313 [==============================] - 3s 2ms/step - loss: 0.2968 - accuracy: 0.9344\n",
      "Epoch 4/10\n",
      "1313/1313 [==============================] - 3s 2ms/step - loss: 0.2536 - accuracy: 0.9420\n",
      "Epoch 5/10\n",
      "1313/1313 [==============================] - 3s 2ms/step - loss: 0.1868 - accuracy: 0.9532\n",
      "Epoch 6/10\n",
      "1313/1313 [==============================] - 3s 2ms/step - loss: 0.1507 - accuracy: 0.9588\n",
      "Epoch 7/10\n",
      "1313/1313 [==============================] - 3s 2ms/step - loss: 0.1353 - accuracy: 0.9621\n",
      "Epoch 8/10\n",
      "1313/1313 [==============================] - 3s 3ms/step - loss: 0.1163 - accuracy: 0.9678\n",
      "Epoch 9/10\n",
      "1313/1313 [==============================] - 3s 2ms/step - loss: 0.1043 - accuracy: 0.9712\n",
      "Epoch 10/10\n",
      "1313/1313 [==============================] - 3s 2ms/step - loss: 0.1055 - accuracy: 0.9716\n"
     ]
    },
    {
     "data": {
      "text/plain": [
       "<keras.callbacks.History at 0x162c8d95940>"
      ]
     },
     "execution_count": 197,
     "metadata": {},
     "output_type": "execute_result"
    }
   ],
   "source": [
    "model.fit(x_train,y_train,epochs=10)"
   ]
  },
  {
   "cell_type": "markdown",
   "id": "f2fb1398",
   "metadata": {},
   "source": [
    "### Make predictions and output to a submission.csv for upload to Kaggle"
   ]
  },
  {
   "cell_type": "code",
   "execution_count": 198,
   "id": "2ac6c019",
   "metadata": {},
   "outputs": [
    {
     "name": "stdout",
     "output_type": "stream",
     "text": [
      "875/875 [==============================] - 1s 1ms/step\n"
     ]
    }
   ],
   "source": [
    "prediction = model.predict(test)\n",
    "pred= np.argmax(prediction,axis=1)\n",
    "output = pd.DataFrame({'ImageId': pd.Series(range(1,28001)),'Label':pred})\n",
    "output.to_csv('submission.csv', index=False)"
   ]
  },
  {
   "cell_type": "code",
   "execution_count": 199,
   "id": "4739d723",
   "metadata": {},
   "outputs": [
    {
     "data": {
      "image/png": "[encoded data removed]",
      "text/plain": [
       "<IPython.core.display.Image object>"
      ]
     },
     "execution_count": 199,
     "metadata": {},
     "output_type": "execute_result"
    }
   ],
   "source": [
    "Image('C:\\\\Users\\Spencer\\\\Desktop\\\\Summer 2022\\\\Data Mining\\\\Homework\\\\Digit Recognizer\\\\CNN4_score.png')"
   ]
  },
  {
   "cell_type": "markdown",
   "id": "e99d5a4f",
   "metadata": {},
   "source": [
    "### The CNN model achieved nearly 96% accuracy. I doubt that non-ANN models will achieve nearly as high accuracy."
   ]
  },
  {
   "cell_type": "markdown",
   "id": "4e42a398",
   "metadata": {},
   "source": [
    "### For fun we will try again but with different layer types and compare the outcome"
   ]
  },
  {
   "cell_type": "code",
   "execution_count": 230,
   "id": "970cef1c",
   "metadata": {},
   "outputs": [
    {
     "name": "stdout",
     "output_type": "stream",
     "text": [
      "Epoch 1/10\n",
      "1313/1313 [==============================] - 93s 70ms/step - loss: 0.2041 - accuracy: 0.9498\n",
      "Epoch 2/10\n",
      "1313/1313 [==============================] - 88s 67ms/step - loss: 0.0656 - accuracy: 0.9802\n",
      "Epoch 3/10\n",
      "1313/1313 [==============================] - 91s 69ms/step - loss: 0.0456 - accuracy: 0.9858\n",
      "Epoch 4/10\n",
      "1313/1313 [==============================] - 86s 66ms/step - loss: 0.0392 - accuracy: 0.9881\n",
      "Epoch 5/10\n",
      "1313/1313 [==============================] - 86s 65ms/step - loss: 0.0356 - accuracy: 0.9898\n",
      "Epoch 6/10\n",
      "1313/1313 [==============================] - 88s 67ms/step - loss: 0.0311 - accuracy: 0.9917\n",
      "Epoch 7/10\n",
      "1313/1313 [==============================] - 86s 66ms/step - loss: 0.0238 - accuracy: 0.9941\n",
      "Epoch 8/10\n",
      "1313/1313 [==============================] - 85s 65ms/step - loss: 0.0228 - accuracy: 0.9942\n",
      "Epoch 9/10\n",
      "1313/1313 [==============================] - 86s 65ms/step - loss: 0.0205 - accuracy: 0.9950\n",
      "Epoch 10/10\n",
      "1313/1313 [==============================] - 88s 67ms/step - loss: 0.0180 - accuracy: 0.9960\n"
     ]
    },
    {
     "data": {
      "text/plain": [
       "<keras.callbacks.History at 0x162dbc49e20>"
      ]
     },
     "execution_count": 230,
     "metadata": {},
     "output_type": "execute_result"
    }
   ],
   "source": [
    "model = Sequential()\n",
    "model.add(Conv2D(64, kernel_size=4, activation='relu', input_shape=(28,28,1)))\n",
    "model.add(Conv2D(32, kernel_size=3, activation='relu'))\n",
    "model.add(Flatten())\n",
    "model.add(Dense(10,activation='softmax'))\n",
    "model.compile(optimizer='adam', loss='sparse_categorical_crossentropy', metrics=['accuracy'])\n",
    "model.fit(x_train,y_train,epochs=10)"
   ]
  },
  {
   "cell_type": "code",
   "execution_count": 231,
   "id": "a0f15cc0",
   "metadata": {},
   "outputs": [
    {
     "name": "stdout",
     "output_type": "stream",
     "text": [
      "875/875 [==============================] - 9s 10ms/step\n"
     ]
    }
   ],
   "source": [
    "prediction = model.predict(test)\n",
    "pred= np.argmax(prediction,axis=1)\n",
    "output = pd.DataFrame({'ImageId': pd.Series(range(1,28001)),'Label':pred})"
   ]
  },
  {
   "cell_type": "code",
   "execution_count": 232,
   "id": "c389fd81",
   "metadata": {},
   "outputs": [],
   "source": [
    "output.to_csv('submission.csv', index=False)"
   ]
  },
  {
   "cell_type": "code",
   "execution_count": 233,
   "id": "4c7f63af",
   "metadata": {},
   "outputs": [
    {
     "data": {
      "image/png": "[encoded data removed]",
      "text/plain": [
       "<IPython.core.display.Image object>"
      ]
     },
     "execution_count": 233,
     "metadata": {},
     "output_type": "execute_result"
    }
   ],
   "source": [
    "Image('C:\\\\Users\\Spencer\\\\Desktop\\\\Summer 2022\\\\Data Mining\\\\Homework\\\\Digit Recognizer\\\\CNN3_score.png')"
   ]
  },
  {
   "cell_type": "markdown",
   "id": "acda10d1",
   "metadata": {},
   "source": [
    "### This model achieved almost 97.7% accuracy. Barely better than the previous CNN which only employed dense layers. In this instance using 2 Conv2D layers in lieu of Dense layers, performance increased by almost 2.2% but at a great cost of performance cost. Each epoch took almost 30x longer than compared to the purely dense layers of the first model. CPU usage was also at 100% the entire model fitting stage."
   ]
  },
  {
   "cell_type": "code",
   "execution_count": 234,
   "id": "d4c7d7cf",
   "metadata": {},
   "outputs": [
    {
     "name": "stdout",
     "output_type": "stream",
     "text": [
      "Epoch 1/3\n",
      "1313/1313 [==============================] - 188s 143ms/step - loss: 0.2156 - accuracy: 0.9491\n",
      "Epoch 2/3\n",
      "1313/1313 [==============================] - 188s 143ms/step - loss: 0.0637 - accuracy: 0.9814\n",
      "Epoch 3/3\n",
      "1313/1313 [==============================] - 187s 143ms/step - loss: 0.0470 - accuracy: 0.9857\n"
     ]
    },
    {
     "data": {
      "text/plain": [
       "<keras.callbacks.History at 0x162bb705cd0>"
      ]
     },
     "execution_count": 234,
     "metadata": {},
     "output_type": "execute_result"
    }
   ],
   "source": [
    "model = Sequential()\n",
    "model.add(Conv2D(128, kernel_size=3, activation='relu', input_shape=(28,28,1)))\n",
    "model.add(Conv2D(32, kernel_size=3, activation='relu'))\n",
    "model.add(Conv2D(32, kernel_size=3, activation='relu'))\n",
    "model.add(Flatten())\n",
    "model.add(Dense(10,activation='softmax'))\n",
    "model.compile(optimizer='adam', loss='sparse_categorical_crossentropy', metrics=['accuracy'])\n",
    "model.fit(x_train,y_train,epochs=3)"
   ]
  },
  {
   "cell_type": "code",
   "execution_count": 235,
   "id": "cf8973e2",
   "metadata": {},
   "outputs": [
    {
     "name": "stdout",
     "output_type": "stream",
     "text": [
      "875/875 [==============================] - 21s 24ms/step\n"
     ]
    }
   ],
   "source": [
    "prediction = model.predict(test)\n",
    "pred= np.argmax(prediction,axis=1)\n",
    "output = pd.DataFrame({'ImageId': pd.Series(range(1,28001)),'Label':pred})"
   ]
  },
  {
   "cell_type": "code",
   "execution_count": 236,
   "id": "38a15cd7",
   "metadata": {},
   "outputs": [],
   "source": [
    "output.to_csv('submission.csv', index=False)"
   ]
  },
  {
   "cell_type": "code",
   "execution_count": 237,
   "id": "b8b2619e",
   "metadata": {},
   "outputs": [
    {
     "data": {
      "image/png": "[encoded data removed]",
      "text/plain": [
       "<IPython.core.display.Image object>"
      ]
     },
     "execution_count": 237,
     "metadata": {},
     "output_type": "execute_result"
    }
   ],
   "source": [
    "Image('C:\\\\Users\\Spencer\\\\Desktop\\\\Summer 2022\\\\Data Mining\\\\Homework\\\\Digit Recognizer\\\\CNN4_score.png')"
   ]
  },
  {
   "cell_type": "markdown",
   "id": "8c4caa40",
   "metadata": {},
   "source": [
    "### Adding one extra Conv2D layers but only using 3 epochs yielded nearly identical performance. I'd be interested in doing more epochs and adding an additional layer if it weren't for the sake of runtime and running personal laptop's CPU at 100% for an extended period of time."
   ]
  },
  {
   "cell_type": "markdown",
   "id": "4e2b9ddc",
   "metadata": {},
   "source": [
    "### We will try a non-ANN model next to compare performance. I'm guessing it won't perform nearly as well as ANN's are highly popular for computer vision applications. So, I expect to see accuracy drop significantly."
   ]
  },
  {
   "cell_type": "code",
   "execution_count": 239,
   "id": "ba6526be",
   "metadata": {},
   "outputs": [
    {
     "data": {
      "text/plain": [
       "(array([4132., 4684., 4177., 4351., 4072., 3795., 4137., 4401., 4063.,\n",
       "        4188.]),\n",
       " array([0. , 0.9, 1.8, 2.7, 3.6, 4.5, 5.4, 6.3, 7.2, 8.1, 9. ]),\n",
       " <BarContainer object of 10 artists>)"
      ]
     },
     "execution_count": 239,
     "metadata": {},
     "output_type": "execute_result"
    },
    {
     "data": {
      "image/png": "[encoded data removed]",
      "text/plain": [
       "<Figure size 432x288 with 1 Axes>"
      ]
     },
     "metadata": {
      "needs_background": "light"
     },
     "output_type": "display_data"
    }
   ],
   "source": [
    "plt.hist(y_train, bins=10)"
   ]
  },
  {
   "cell_type": "markdown",
   "id": "04e275d2",
   "metadata": {},
   "source": [
    "### We should have considered this earler, but luckily out ANN accuracy was high, as well as our distribution of training examples are pretty evenly spread across each digit."
   ]
  },
  {
   "cell_type": "markdown",
   "id": "40c5e9ab",
   "metadata": {},
   "source": [
    "### We are going to need to reduce the dimensionality of our data to fit another model. I will use a support vector machine as that yielded the highest accuracy when used against the titanic dataset of project 2."
   ]
  },
  {
   "cell_type": "code",
   "execution_count": null,
   "id": "a93d3d1d",
   "metadata": {},
   "outputs": [],
   "source": []
  },
  {
   "cell_type": "code",
   "execution_count": 3,
   "id": "2d3d1162",
   "metadata": {},
   "outputs": [],
   "source": [
    "from sklearn.preprocessing import StandardScaler\n",
    "train = pd.read_csv('C:\\\\Users\\\\Spencer\\\\Desktop\\\\Summer 2022\\\\Data Mining\\\\Homework\\\\Digit Recognizer\\\\digit-recognizer\\\\train.csv')\n",
    "test = pd.read_csv('C:\\\\Users\\\\Spencer\\\\Desktop\\\\Summer 2022\\\\Data Mining\\\\Homework\\\\Digit Recognizer\\\\digit-recognizer\\\\test.csv')\n",
    "x_train = train.iloc[:,1:]\n",
    "y_train = train.iloc[:,0:1]\n",
    "scaler = StandardScaler()\n",
    "scaler.fit(x_train)\n",
    "x_scaled = scaler.transform(x_train)"
   ]
  },
  {
   "cell_type": "code",
   "execution_count": 4,
   "id": "534c9a6b",
   "metadata": {},
   "outputs": [],
   "source": [
    "from sklearn.decomposition import PCA\n",
    "pca_784 = PCA(n_components=784)\n",
    "pca_784.fit(x_scaled)\n",
    "x_pca_784 = pca_784.transform(x_scaled)"
   ]
  },
  {
   "cell_type": "code",
   "execution_count": 260,
   "id": "ddee3fea",
   "metadata": {},
   "outputs": [
    {
     "data": {
      "text/plain": [
       "array([5.74795336e+00, 4.11169103e+00, 3.78286715e+00, 2.93986212e+00,\n",
       "       2.55643921e+00, 2.22984433e+00, 1.95255247e+00, 1.77160531e+00,\n",
       "       1.56266017e+00, 1.42495571e+00, 1.36100884e+00, 1.22254076e+00,\n",
       "       1.13573634e+00, 1.11309029e+00, 1.05031053e+00, 1.01232575e+00,\n",
       "       9.51302738e-01, 9.34514435e-01, 9.07258876e-01, 8.85327331e-01,\n",
       "       8.38907114e-01, 8.12027039e-01, 7.75160752e-01, 7.52311857e-01,\n",
       "       7.27690355e-01, 6.98755959e-01, 6.90454706e-01, 6.64923638e-01,\n",
       "       6.30675038e-01, 6.16301289e-01, 6.10922106e-01, 5.97037089e-01,\n",
       "       5.77283590e-01, 5.73682340e-01, 5.64821911e-01, 5.46321734e-01,\n",
       "       5.39430432e-01, 5.24361113e-01, 5.04843259e-01, 4.88530211e-01,\n",
       "       4.82243943e-01, 4.75900896e-01, 4.60007666e-01, 4.57628685e-01,\n",
       "       4.49583855e-01, 4.46721905e-01, 4.43836948e-01, 4.36836795e-01,\n",
       "       4.32712937e-01, 4.27026938e-01, 4.19269307e-01, 4.12180430e-01,\n",
       "       4.02460610e-01, 3.99434033e-01, 3.94891257e-01, 3.90805004e-01,\n",
       "       3.79898634e-01, 3.72453760e-01, 3.68413000e-01, 3.65722960e-01,\n",
       "       3.53278148e-01, 3.51087786e-01, 3.45413557e-01, 3.41394066e-01,\n",
       "       3.37784107e-01, 3.36476685e-01, 3.31709837e-01, 3.29725228e-01,\n",
       "       3.20015874e-01, 3.16775723e-01, 3.12695369e-01, 3.11861185e-01,\n",
       "       3.08212107e-01, 3.03276007e-01, 3.01509122e-01, 2.97140215e-01,\n",
       "       2.94848754e-01, 2.93628715e-01, 2.87847706e-01, 2.86905510e-01,\n",
       "       2.83171411e-01, 2.82885141e-01, 2.81701378e-01, 2.79215265e-01,\n",
       "       2.76841887e-01, 2.76315646e-01, 2.73923270e-01, 2.71810274e-01,\n",
       "       2.68140871e-01, 2.65442559e-01, 2.62071921e-01, 2.60163859e-01,\n",
       "       2.58195739e-01, 2.54877212e-01, 2.53504119e-01, 2.52400848e-01,\n",
       "       2.50073628e-01, 2.45803264e-01, 2.44359522e-01, 2.41387291e-01,\n",
       "       2.37652455e-01, 2.36249114e-01, 2.32331796e-01, 2.30242650e-01,\n",
       "       2.29497302e-01, 2.26463285e-01, 2.24959106e-01, 2.23669516e-01,\n",
       "       2.20711944e-01, 2.20195216e-01, 2.16809281e-01, 2.14696650e-01,\n",
       "       2.11181744e-01, 2.09887344e-01, 2.04875932e-01, 2.04033439e-01,\n",
       "       2.02019790e-01, 2.00271446e-01, 1.97006997e-01, 1.95729783e-01,\n",
       "       1.94417539e-01, 1.91762796e-01, 1.90350057e-01, 1.90067082e-01,\n",
       "       1.89562409e-01, 1.85527186e-01, 1.84308661e-01, 1.82621373e-01,\n",
       "       1.79744174e-01, 1.79348434e-01, 1.77791084e-01, 1.76181739e-01,\n",
       "       1.73887240e-01, 1.73432418e-01, 1.71976300e-01, 1.68541120e-01,\n",
       "       1.67956630e-01, 1.66384002e-01, 1.63969578e-01, 1.63196196e-01,\n",
       "       1.61624871e-01, 1.60841118e-01, 1.59692258e-01, 1.58521931e-01,\n",
       "       1.56465931e-01, 1.55770401e-01, 1.54226895e-01, 1.53112078e-01,\n",
       "       1.52727013e-01, 1.50129367e-01, 1.49344269e-01, 1.47825771e-01,\n",
       "       1.47605377e-01, 1.47329600e-01, 1.45474189e-01, 1.44852485e-01,\n",
       "       1.43415657e-01, 1.42483230e-01, 1.41806332e-01, 1.41361011e-01,\n",
       "       1.41323628e-01, 1.41060565e-01, 1.40884999e-01, 1.40482378e-01,\n",
       "       1.40011978e-01, 1.39143079e-01, 1.38448307e-01, 1.37319635e-01,\n",
       "       1.36413582e-01, 1.34727599e-01, 1.34415491e-01, 1.33254831e-01,\n",
       "       1.31781765e-01, 1.31219696e-01, 1.30022997e-01, 1.29864121e-01,\n",
       "       1.28172396e-01, 1.27958274e-01, 1.27521251e-01, 1.26772815e-01,\n",
       "       1.26107608e-01, 1.24317348e-01, 1.24183556e-01, 1.23433726e-01,\n",
       "       1.21797608e-01, 1.20026412e-01, 1.18736819e-01, 1.17446338e-01,\n",
       "       1.16617868e-01, 1.15710863e-01, 1.14808151e-01, 1.14629042e-01,\n",
       "       1.13451501e-01, 1.10814523e-01, 1.09627178e-01, 1.08913515e-01,\n",
       "       1.07807365e-01, 1.07063640e-01, 1.06338366e-01, 1.05611933e-01,\n",
       "       1.04889639e-01, 1.04382647e-01, 1.02078584e-01, 1.01045044e-01,\n",
       "       1.00736166e-01, 9.91549987e-02, 9.86681014e-02, 9.71749723e-02,\n",
       "       9.68951471e-02, 9.62707279e-02, 9.52682080e-02, 9.42731305e-02,\n",
       "       9.37090721e-02, 9.28046633e-02, 9.14611123e-02, 9.10510021e-02,\n",
       "       9.02081406e-02, 8.97831331e-02, 8.85365069e-02, 8.82196522e-02,\n",
       "       8.66307975e-02, 8.62415116e-02, 8.57847267e-02, 8.53050201e-02,\n",
       "       8.40306690e-02, 8.34023021e-02, 8.25132340e-02, 8.20425105e-02,\n",
       "       8.07657114e-02, 8.03103049e-02, 7.99355384e-02, 7.91104353e-02,\n",
       "       7.85236206e-02, 7.70744315e-02, 7.55980173e-02, 7.51209477e-02,\n",
       "       7.41301988e-02, 7.36099900e-02, 7.33829281e-02, 7.26922537e-02,\n",
       "       7.25553982e-02, 7.14974178e-02, 7.04919170e-02, 6.96279871e-02,\n",
       "       6.95354935e-02, 6.92560191e-02, 6.88616964e-02, 6.82685615e-02,\n",
       "       6.69682242e-02, 6.65082469e-02, 6.60123468e-02, 6.49612930e-02,\n",
       "       6.40201741e-02, 6.28325628e-02, 6.25100250e-02, 6.20389982e-02,\n",
       "       6.13084465e-02, 6.06612703e-02, 6.05020624e-02, 6.01359533e-02,\n",
       "       5.95294314e-02, 5.88560215e-02, 5.85029207e-02, 5.83221063e-02,\n",
       "       5.74978317e-02, 5.72605650e-02, 5.69398768e-02, 5.66081913e-02,\n",
       "       5.62359350e-02, 5.52041144e-02, 5.47266550e-02, 5.45500431e-02,\n",
       "       5.42565175e-02, 5.36050917e-02, 5.27066795e-02, 5.25258868e-02,\n",
       "       5.21726522e-02, 5.17443036e-02, 5.11637698e-02, 5.05520297e-02,\n",
       "       5.01791283e-02, 4.99202948e-02, 4.96371513e-02, 4.91046462e-02,\n",
       "       4.87000862e-02, 4.80698818e-02, 4.78381668e-02, 4.73888115e-02,\n",
       "       4.64981580e-02, 4.64314094e-02, 4.55716099e-02, 4.53861836e-02,\n",
       "       4.51848632e-02, 4.50311255e-02, 4.43452824e-02, 4.40718611e-02,\n",
       "       4.36124676e-02, 4.32655092e-02, 4.28359720e-02, 4.21250780e-02,\n",
       "       4.17915690e-02, 4.14052436e-02, 4.13345036e-02, 4.08416225e-02,\n",
       "       4.07748961e-02, 4.02617985e-02, 4.01229507e-02, 3.97983949e-02,\n",
       "       3.96285693e-02, 3.94184852e-02, 3.87762699e-02, 3.83491286e-02,\n",
       "       3.82429027e-02, 3.80175023e-02, 3.78654247e-02, 3.72211541e-02,\n",
       "       3.70550607e-02, 3.66274987e-02, 3.61666304e-02, 3.56876067e-02,\n",
       "       3.56191851e-02, 3.53540878e-02, 3.51840385e-02, 3.48535536e-02,\n",
       "       3.44029372e-02, 3.38676575e-02, 3.38352200e-02, 3.37806747e-02,\n",
       "       3.34796884e-02, 3.30960387e-02, 3.27947978e-02, 3.26999427e-02,\n",
       "       3.24677670e-02, 3.22548474e-02, 3.21059388e-02, 3.18449577e-02,\n",
       "       3.15933965e-02, 3.13847857e-02, 3.09753317e-02, 3.08307713e-02,\n",
       "       3.06080173e-02, 3.05198209e-02, 3.01768433e-02, 2.99078159e-02,\n",
       "       2.98020295e-02, 2.93470591e-02, 2.92878494e-02, 2.89972628e-02,\n",
       "       2.87925502e-02, 2.85636646e-02, 2.83626806e-02, 2.82177907e-02,\n",
       "       2.79790668e-02, 2.79283815e-02, 2.77552085e-02, 2.72052078e-02,\n",
       "       2.70153149e-02, 2.67178558e-02, 2.65345493e-02, 2.63350345e-02,\n",
       "       2.62290952e-02, 2.59743329e-02, 2.58668426e-02, 2.56084279e-02,\n",
       "       2.54119214e-02, 2.53046589e-02, 2.50532393e-02, 2.48547567e-02,\n",
       "       2.47555357e-02, 2.46897199e-02, 2.45479492e-02, 2.43702633e-02,\n",
       "       2.41737849e-02, 2.39436607e-02, 2.38751467e-02, 2.36383598e-02,\n",
       "       2.35897795e-02, 2.32444731e-02, 2.30673654e-02, 2.30187485e-02,\n",
       "       2.27017779e-02, 2.26705147e-02, 2.25638258e-02, 2.24656459e-02,\n",
       "       2.21988777e-02, 2.21836744e-02, 2.20299339e-02, 2.18078262e-02,\n",
       "       2.17549952e-02, 2.15780077e-02, 2.14271871e-02, 2.13410744e-02,\n",
       "       2.11048600e-02, 2.09404446e-02, 2.08811279e-02, 2.07685414e-02,\n",
       "       2.06142974e-02, 2.05237600e-02, 2.03269670e-02, 2.02898437e-02,\n",
       "       2.00642458e-02, 2.00380247e-02, 1.98214151e-02, 1.96509328e-02,\n",
       "       1.95169423e-02, 1.94248665e-02, 1.93742172e-02, 1.91902472e-02,\n",
       "       1.90862752e-02, 1.90170836e-02, 1.89301995e-02, 1.88132172e-02,\n",
       "       1.86909193e-02, 1.83785563e-02, 1.82856192e-02, 1.80911084e-02,\n",
       "       1.79488639e-02, 1.78311152e-02, 1.77692113e-02, 1.75804195e-02,\n",
       "       1.75062688e-02, 1.74535908e-02, 1.73145175e-02, 1.71847641e-02,\n",
       "       1.70369073e-02, 1.70141409e-02, 1.69422792e-02, 1.67659825e-02,\n",
       "       1.67111380e-02, 1.66541607e-02, 1.65770660e-02, 1.64896427e-02,\n",
       "       1.64511468e-02, 1.63264382e-02, 1.61983452e-02, 1.60549945e-02,\n",
       "       1.58788244e-02, 1.57488919e-02, 1.56489322e-02, 1.56112883e-02,\n",
       "       1.55215488e-02, 1.54604858e-02, 1.52847195e-02, 1.51633151e-02,\n",
       "       1.50872855e-02, 1.49369467e-02, 1.48592139e-02, 1.47710700e-02,\n",
       "       1.47046770e-02, 1.45939283e-02, 1.45762889e-02, 1.45184640e-02,\n",
       "       1.44018705e-02, 1.43411001e-02, 1.43248925e-02, 1.42526938e-02,\n",
       "       1.41719541e-02, 1.40792795e-02, 1.40094045e-02, 1.39675426e-02,\n",
       "       1.38495335e-02, 1.37949530e-02, 1.37388419e-02, 1.36712239e-02,\n",
       "       1.35827190e-02, 1.34738477e-02, 1.34381109e-02, 1.33929003e-02,\n",
       "       1.32940178e-02, 1.32051293e-02, 1.31558268e-02, 1.30784340e-02,\n",
       "       1.29866914e-02, 1.28761775e-02, 1.28301380e-02, 1.27999459e-02,\n",
       "       1.27077256e-02, 1.26808359e-02, 1.25410336e-02, 1.24688950e-02,\n",
       "       1.24344996e-02, 1.23519075e-02, 1.22958458e-02, 1.22756269e-02,\n",
       "       1.22330625e-02, 1.21350568e-02, 1.20384805e-02, 1.19669860e-02,\n",
       "       1.18896921e-02, 1.18664475e-02, 1.18219402e-02, 1.17497250e-02,\n",
       "       1.17002544e-02, 1.15594500e-02, 1.14744689e-02, 1.14183994e-02,\n",
       "       1.13849159e-02, 1.13391586e-02, 1.12307332e-02, 1.11742248e-02,\n",
       "       1.11258608e-02, 1.10562950e-02, 1.09731581e-02, 1.09594589e-02,\n",
       "       1.08430203e-02, 1.08211089e-02, 1.07745548e-02, 1.07454055e-02,\n",
       "       1.06797576e-02, 1.06401424e-02, 1.05836759e-02, 1.05268634e-02,\n",
       "       1.04608764e-02, 1.04056031e-02, 1.03927683e-02, 1.03436565e-02,\n",
       "       1.02925420e-02, 1.02058554e-02, 1.01324483e-02, 1.00765381e-02,\n",
       "       1.00426393e-02, 9.95224635e-03, 9.93011049e-03, 9.90809170e-03,\n",
       "       9.80457754e-03, 9.79231554e-03, 9.75631580e-03, 9.70636316e-03,\n",
       "       9.69566590e-03, 9.63702836e-03, 9.54235767e-03, 9.52109388e-03,\n",
       "       9.46809254e-03, 9.37952691e-03, 9.31514562e-03, 9.26782779e-03,\n",
       "       9.26355135e-03, 9.16512417e-03, 9.11028459e-03, 9.06381807e-03,\n",
       "       9.03477489e-03, 8.99709806e-03, 8.97444157e-03, 8.91386261e-03,\n",
       "       8.83358966e-03, 8.79989592e-03, 8.75510552e-03, 8.65200241e-03,\n",
       "       8.62213463e-03, 8.57411544e-03, 8.54491016e-03, 8.52186682e-03,\n",
       "       8.45894139e-03, 8.38967885e-03, 8.36618695e-03, 8.31505914e-03,\n",
       "       8.24055563e-03, 8.18511942e-03, 8.13930954e-03, 8.09534035e-03,\n",
       "       8.05787950e-03, 7.96792976e-03, 7.91648236e-03, 7.88852298e-03,\n",
       "       7.87086708e-03, 7.83042989e-03, 7.78767815e-03, 7.78527568e-03,\n",
       "       7.75329209e-03, 7.65882492e-03, 7.57022259e-03, 7.56416820e-03,\n",
       "       7.52602839e-03, 7.47452684e-03, 7.43530795e-03, 7.36899553e-03,\n",
       "       7.36665497e-03, 7.33407383e-03, 7.26382478e-03, 7.24448865e-03,\n",
       "       7.21954325e-03, 7.17011874e-03, 7.09510376e-03, 7.07856818e-03,\n",
       "       7.01663956e-03, 6.96717205e-03, 6.95788248e-03, 6.94229670e-03,\n",
       "       6.88543990e-03, 6.84255755e-03, 6.78896274e-03, 6.76393415e-03,\n",
       "       6.72242876e-03, 6.71663158e-03, 6.66913481e-03, 6.63341982e-03,\n",
       "       6.59846418e-03, 6.56499709e-03, 6.50862318e-03, 6.44584651e-03,\n",
       "       6.42196470e-03, 6.39012475e-03, 6.37261153e-03, 6.35619051e-03,\n",
       "       6.28571226e-03, 6.25048957e-03, 6.22784244e-03, 6.17710351e-03,\n",
       "       6.15811824e-03, 6.13127742e-03, 6.09028048e-03, 6.03476701e-03,\n",
       "       6.02189639e-03, 6.00237004e-03, 5.93391847e-03, 5.88650583e-03,\n",
       "       5.83543809e-03, 5.81212225e-03, 5.75727550e-03, 5.71021974e-03,\n",
       "       5.68406515e-03, 5.67567683e-03, 5.65219451e-03, 5.61648516e-03,\n",
       "       5.58736213e-03, 5.57114507e-03, 5.54408228e-03, 5.47239732e-03,\n",
       "       5.41552874e-03, 5.41476175e-03, 5.35214012e-03, 5.33660894e-03,\n",
       "       5.28264818e-03, 5.28072996e-03, 5.24893576e-03, 5.21319196e-03,\n",
       "       5.18971317e-03, 5.14775371e-03, 5.11776721e-03, 5.05587853e-03,\n",
       "       5.02356727e-03, 4.99470224e-03, 4.95613363e-03, 4.91787674e-03,\n",
       "       4.89706299e-03, 4.86215496e-03, 4.83956766e-03, 4.82220221e-03,\n",
       "       4.76839663e-03, 4.68763920e-03, 4.66210050e-03, 4.64171428e-03,\n",
       "       4.60513343e-03, 4.57198512e-03, 4.52354488e-03, 4.49831646e-03,\n",
       "       4.48374026e-03, 4.45400499e-03, 4.42501635e-03, 4.36806200e-03,\n",
       "       4.33841783e-03, 4.31463390e-03, 4.27593147e-03, 4.21351980e-03,\n",
       "       4.17256538e-03, 4.13860340e-03, 4.11606653e-03, 4.06711340e-03,\n",
       "       4.04339839e-03, 4.01808547e-03, 3.97683577e-03, 3.92419523e-03,\n",
       "       3.90557582e-03, 3.86983740e-03, 3.82524303e-03, 3.79803376e-03,\n",
       "       3.78593070e-03, 3.75006820e-03, 3.72714437e-03, 3.67349794e-03,\n",
       "       3.62555223e-03, 3.58299240e-03, 3.56859653e-03, 3.50479425e-03,\n",
       "       3.45857355e-03, 3.42579658e-03, 3.39761942e-03, 3.35906791e-03,\n",
       "       3.31369951e-03, 3.29736403e-03, 3.27113375e-03, 3.22132400e-03,\n",
       "       3.11075707e-03, 3.02348312e-03, 2.98881223e-03, 2.93465169e-03,\n",
       "       2.84467472e-03, 2.61993624e-03, 2.54718337e-03, 1.66047308e-03,\n",
       "       1.19454794e-03, 6.71415152e-04, 2.65639198e-04, 8.43654931e-05,\n",
       "       2.69585313e-29, 4.36783041e-31, 2.52203639e-31, 1.89009188e-31,\n",
       "       1.40129390e-31, 1.34878095e-31, 1.29295802e-31, 9.76308243e-32,\n",
       "       8.38603147e-32, 6.85721328e-32, 6.19212899e-32, 4.95745227e-32,\n",
       "       3.55933529e-32, 3.41073237e-32, 2.67014543e-32, 2.29450699e-32,\n",
       "       1.98510601e-32, 1.96846013e-32, 1.96846013e-32, 1.96846013e-32,\n",
       "       1.96846013e-32, 1.96846013e-32, 1.96846013e-32, 1.96846013e-32,\n",
       "       1.96846013e-32, 1.96846013e-32, 1.96846013e-32, 1.96846013e-32,\n",
       "       1.96846013e-32, 1.96846013e-32, 1.96846013e-32, 1.96846013e-32,\n",
       "       1.96846013e-32, 1.96846013e-32, 1.96846013e-32, 1.96846013e-32,\n",
       "       1.96846013e-32, 1.96846013e-32, 1.96846013e-32, 1.96846013e-32,\n",
       "       1.96846013e-32, 1.96846013e-32, 1.96846013e-32, 1.96846013e-32,\n",
       "       1.96846013e-32, 1.96846013e-32, 1.96846013e-32, 1.96846013e-32,\n",
       "       1.96846013e-32, 1.96846013e-32, 1.96846013e-32, 1.96846013e-32,\n",
       "       1.96846013e-32, 1.96846013e-32, 1.96846013e-32, 1.96846013e-32,\n",
       "       1.96846013e-32, 1.96846013e-32, 1.96846013e-32, 1.96846013e-32,\n",
       "       1.96846013e-32, 1.96846013e-32, 1.96846013e-32, 1.96846013e-32,\n",
       "       1.96846013e-32, 1.96846013e-32, 1.96846013e-32, 1.96846013e-32,\n",
       "       1.96846013e-32, 1.96846013e-32, 1.96846013e-32, 1.96846013e-32,\n",
       "       1.96846013e-32, 1.96846013e-32, 1.96846013e-32, 1.96846013e-32,\n",
       "       1.13323276e-32, 7.55523566e-33, 3.61968356e-33, 7.09272539e-34])"
      ]
     },
     "execution_count": 260,
     "metadata": {},
     "output_type": "execute_result"
    }
   ],
   "source": [
    "pca_784.explained_variance_ratio_ * 100"
   ]
  },
  {
   "cell_type": "markdown",
   "id": "6e0af5b2",
   "metadata": {},
   "source": [
    "### None of the components contribute an extremely high variability in the data. The ones that stick out the most are the first 4 components which contribute almost 10% of the variability. Which further leads me to believe ANN's are the way to go here"
   ]
  },
  {
   "cell_type": "code",
   "execution_count": 262,
   "id": "a605e1ac",
   "metadata": {},
   "outputs": [
    {
     "data": {
      "text/plain": [
       "[<matplotlib.lines.Line2D at 0x162cb1510d0>]"
      ]
     },
     "execution_count": 262,
     "metadata": {},
     "output_type": "execute_result"
    },
    {
     "data": {
      "image/png": "[encoded data removed]",
      "text/plain": [
       "<Figure size 432x288 with 1 Axes>"
      ]
     },
     "metadata": {
      "needs_background": "light"
     },
     "output_type": "display_data"
    }
   ],
   "source": [
    "plt.plot(np.cumsum(pca_784.explained_variance_ratio_))"
   ]
  },
  {
   "cell_type": "markdown",
   "id": "74463f42",
   "metadata": {},
   "source": [
    "### It roughly looks like we need probably between 400-500 pixels to relatively capture the variance of our components."
   ]
  },
  {
   "cell_type": "code",
   "execution_count": 5,
   "id": "e67a3059",
   "metadata": {},
   "outputs": [],
   "source": [
    "pca_450 = PCA(n_components=450)\n",
    "pca_450.fit(x_scaled)\n",
    "x_pca_450 = pca_450.transform(x_scaled)"
   ]
  },
  {
   "cell_type": "code",
   "execution_count": 264,
   "id": "7dd7f271",
   "metadata": {},
   "outputs": [
    {
     "data": {
      "text/plain": [
       "(42000, 450)"
      ]
     },
     "execution_count": 264,
     "metadata": {},
     "output_type": "execute_result"
    }
   ],
   "source": [
    "x_pca_450.shape"
   ]
  },
  {
   "cell_type": "markdown",
   "id": "ba349c03",
   "metadata": {},
   "source": [
    "### Our x_train is now 450 components from 784 components."
   ]
  },
  {
   "cell_type": "code",
   "execution_count": 12,
   "id": "cec6ad2a",
   "metadata": {},
   "outputs": [
    {
     "data": {
      "text/plain": [
       "(42000, 1)"
      ]
     },
     "execution_count": 12,
     "metadata": {},
     "output_type": "execute_result"
    }
   ],
   "source": [
    "import numpy as np\n",
    "x = x_pca_450.astype(np.int64)\n",
    "y = y_train.values\n",
    "y.shape"
   ]
  },
  {
   "cell_type": "code",
   "execution_count": 13,
   "id": "ff4c62d3",
   "metadata": {},
   "outputs": [
    {
     "name": "stderr",
     "output_type": "stream",
     "text": [
      "C:\\Users\\Spencer\\anaconda3\\lib\\site-packages\\sklearn\\utils\\validation.py:993: DataConversionWarning: A column-vector y was passed when a 1d array was expected. Please change the shape of y to (n_samples, ), for example using ravel().\n",
      "  y = column_or_1d(y, warn=True)\n"
     ]
    },
    {
     "data": {
      "text/plain": [
       "SVC(kernel='linear')"
      ]
     },
     "execution_count": 13,
     "metadata": {},
     "output_type": "execute_result"
    }
   ],
   "source": [
    "from sklearn.svm import SVC\n",
    "clf = SVC(kernel='linear')\n",
    "clf.fit(x, y)"
   ]
  },
  {
   "cell_type": "code",
   "execution_count": 15,
   "id": "fd397cc9",
   "metadata": {},
   "outputs": [],
   "source": [
    "scaler = StandardScaler()\n",
    "scaler.fit(test)\n",
    "testData = scaler.transform(test)\n",
    "pca_450 = PCA(n_components=450)\n",
    "pca_450.fit(testData)\n",
    "x_pca_450 = pca_450.transform(testData)"
   ]
  },
  {
   "cell_type": "code",
   "execution_count": 17,
   "id": "da31155a",
   "metadata": {},
   "outputs": [],
   "source": [
    "prediction = clf.predict(x_pca_450.astype(np.int64))"
   ]
  },
  {
   "cell_type": "code",
   "execution_count": 18,
   "id": "5ef1441f",
   "metadata": {},
   "outputs": [
    {
     "data": {
      "text/plain": [
       "array([2, 0, 8, ..., 3, 9, 2], dtype=int64)"
      ]
     },
     "execution_count": 18,
     "metadata": {},
     "output_type": "execute_result"
    }
   ],
   "source": [
    "prediction"
   ]
  },
  {
   "cell_type": "code",
   "execution_count": 20,
   "id": "fc512acf",
   "metadata": {},
   "outputs": [],
   "source": [
    "output = pd.DataFrame({'ImageId': pd.Series(range(1,28001)),'Label':prediction})"
   ]
  },
  {
   "cell_type": "code",
   "execution_count": 21,
   "id": "1eb7f5a2",
   "metadata": {},
   "outputs": [],
   "source": [
    "output.to_csv('submission.csv', index=False)"
   ]
  },
  {
   "cell_type": "code",
   "execution_count": 22,
   "id": "8314a71e",
   "metadata": {},
   "outputs": [
    {
     "data": {
      "image/png": "[encoded data removed]",
      "text/plain": [
       "<IPython.core.display.Image object>"
      ]
     },
     "execution_count": 22,
     "metadata": {},
     "output_type": "execute_result"
    }
   ],
   "source": [
    "from IPython.display import Image\n",
    "Image('C:\\\\Users\\Spencer\\\\Desktop\\\\Summer 2022\\\\Data Mining\\\\Homework\\\\Digit Recognizer\\\\SVC1_score.png')"
   ]
  },
  {
   "cell_type": "markdown",
   "id": "53f0794b",
   "metadata": {},
   "source": [
    "### Not surprisingly, the SVC did not nearly do as well as the ANN's, with an accuracy of over 30% worse."
   ]
  },
  {
   "cell_type": "code",
   "execution_count": null,
   "id": "1218d4e3",
   "metadata": {},
   "outputs": [],
   "source": []
  }
 ],
 "metadata": {
  "kernelspec": {
   "display_name": "Python 3 (ipykernel)",
   "language": "python",
   "name": "python3"
  },
  "language_info": {
   "codemirror_mode": {
    "name": "ipython",
    "version": 3
   },
   "file_extension": ".py",
   "mimetype": "text/x-python",
   "name": "python",
   "nbconvert_exporter": "python",
   "pygments_lexer": "ipython3",
   "version": "3.9.12"
  }
 },
 "nbformat": 4,
 "nbformat_minor": 5
}
